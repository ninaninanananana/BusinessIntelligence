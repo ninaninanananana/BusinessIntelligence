{
  "nbformat": 4,
  "nbformat_minor": 0,
  "metadata": {
    "colab": {
      "provenance": []
    },
    "kernelspec": {
      "name": "python3",
      "display_name": "Python 3"
    },
    "language_info": {
      "name": "python"
    }
  },
  "cells": [
    {
      "cell_type": "code",
      "execution_count": 26,
      "metadata": {
        "colab": {
          "base_uri": "https://localhost:8080/"
        },
        "id": "vSW-0jNHhDm7",
        "outputId": "463b1dd3-fb72-4ca1-ace0-c20c4a2bd6d8"
      },
      "outputs": [
        {
          "output_type": "stream",
          "name": "stdout",
          "text": [
            "Requirement already satisfied: requests in /usr/local/lib/python3.12/dist-packages (2.32.4)\n",
            "Requirement already satisfied: charset_normalizer<4,>=2 in /usr/local/lib/python3.12/dist-packages (from requests) (3.4.3)\n",
            "Requirement already satisfied: idna<4,>=2.5 in /usr/local/lib/python3.12/dist-packages (from requests) (3.10)\n",
            "Requirement already satisfied: urllib3<3,>=1.21.1 in /usr/local/lib/python3.12/dist-packages (from requests) (2.5.0)\n",
            "Requirement already satisfied: certifi>=2017.4.17 in /usr/local/lib/python3.12/dist-packages (from requests) (2025.8.3)\n",
            "Requirement already satisfied: yfinance in /usr/local/lib/python3.12/dist-packages (0.2.65)\n",
            "Requirement already satisfied: pandas>=1.3.0 in /usr/local/lib/python3.12/dist-packages (from yfinance) (2.2.2)\n",
            "Requirement already satisfied: numpy>=1.16.5 in /usr/local/lib/python3.12/dist-packages (from yfinance) (2.0.2)\n",
            "Requirement already satisfied: requests>=2.31 in /usr/local/lib/python3.12/dist-packages (from yfinance) (2.32.4)\n",
            "Requirement already satisfied: multitasking>=0.0.7 in /usr/local/lib/python3.12/dist-packages (from yfinance) (0.0.12)\n",
            "Requirement already satisfied: platformdirs>=2.0.0 in /usr/local/lib/python3.12/dist-packages (from yfinance) (4.4.0)\n",
            "Requirement already satisfied: pytz>=2022.5 in /usr/local/lib/python3.12/dist-packages (from yfinance) (2025.2)\n",
            "Requirement already satisfied: frozendict>=2.3.4 in /usr/local/lib/python3.12/dist-packages (from yfinance) (2.4.6)\n",
            "Requirement already satisfied: peewee>=3.16.2 in /usr/local/lib/python3.12/dist-packages (from yfinance) (3.18.2)\n",
            "Requirement already satisfied: beautifulsoup4>=4.11.1 in /usr/local/lib/python3.12/dist-packages (from yfinance) (4.13.5)\n",
            "Requirement already satisfied: curl_cffi>=0.7 in /usr/local/lib/python3.12/dist-packages (from yfinance) (0.13.0)\n",
            "Requirement already satisfied: protobuf>=3.19.0 in /usr/local/lib/python3.12/dist-packages (from yfinance) (5.29.5)\n",
            "Requirement already satisfied: websockets>=13.0 in /usr/local/lib/python3.12/dist-packages (from yfinance) (15.0.1)\n",
            "Requirement already satisfied: soupsieve>1.2 in /usr/local/lib/python3.12/dist-packages (from beautifulsoup4>=4.11.1->yfinance) (2.8)\n",
            "Requirement already satisfied: typing-extensions>=4.0.0 in /usr/local/lib/python3.12/dist-packages (from beautifulsoup4>=4.11.1->yfinance) (4.15.0)\n",
            "Requirement already satisfied: cffi>=1.12.0 in /usr/local/lib/python3.12/dist-packages (from curl_cffi>=0.7->yfinance) (1.17.1)\n",
            "Requirement already satisfied: certifi>=2024.2.2 in /usr/local/lib/python3.12/dist-packages (from curl_cffi>=0.7->yfinance) (2025.8.3)\n",
            "Requirement already satisfied: python-dateutil>=2.8.2 in /usr/local/lib/python3.12/dist-packages (from pandas>=1.3.0->yfinance) (2.9.0.post0)\n",
            "Requirement already satisfied: tzdata>=2022.7 in /usr/local/lib/python3.12/dist-packages (from pandas>=1.3.0->yfinance) (2025.2)\n",
            "Requirement already satisfied: charset_normalizer<4,>=2 in /usr/local/lib/python3.12/dist-packages (from requests>=2.31->yfinance) (3.4.3)\n",
            "Requirement already satisfied: idna<4,>=2.5 in /usr/local/lib/python3.12/dist-packages (from requests>=2.31->yfinance) (3.10)\n",
            "Requirement already satisfied: urllib3<3,>=1.21.1 in /usr/local/lib/python3.12/dist-packages (from requests>=2.31->yfinance) (2.5.0)\n",
            "Requirement already satisfied: pycparser in /usr/local/lib/python3.12/dist-packages (from cffi>=1.12.0->curl_cffi>=0.7->yfinance) (2.22)\n",
            "Requirement already satisfied: six>=1.5 in /usr/local/lib/python3.12/dist-packages (from python-dateutil>=2.8.2->pandas>=1.3.0->yfinance) (1.17.0)\n",
            "日期 1140912 指數 臺灣全市場新經濟產業報酬指數 收盤 4430 漲跌 17.21\n",
            "日期 1140912 指數 臺灣ESG永續高股息等權重報酬指數 收盤 6507 漲跌 58.07\n",
            "日期 1140912 指數 臺灣永續高息中小型報酬指數 收盤 6237 漲跌 76.76\n",
            "日期 1140912 指數 特選臺灣高息優質成長報酬指數 收盤 6530 漲跌 68.84\n",
            "日期 1140912 指數 特選臺灣高息動能報酬指數 收盤 6981 漲跌 72.25\n",
            "日期 1140912 指數 臺灣電子成長高息等權重報酬指數 收盤 6142 漲跌 94.97\n",
            "日期 1140912 指數 特選臺灣優利成長報酬指數 收盤 5579 漲跌 22.09\n",
            "日期 1140912 指數 臺灣價值高息報酬指數 收盤 5978 漲跌 59.00\n",
            "日期 1140912 指數 特選臺灣IC設計動能報酬指數 收盤 5374 漲跌 13.77\n",
            "日期 1140912 指數 臺灣科技高股息報酬指數 收盤 5286 漲跌 87.20\n",
            "日期 1140912 指數 臺灣趨勢動能高股息報酬指數 收盤 6086 漲跌 29.50\n",
            "日期 1140912 指數 特選臺灣科技高息成長報酬指數 收盤 6311 漲跌 53.54\n",
            "日期 1140912 指數 特選臺灣AI優息動能報酬指數 收盤 5631 漲跌 18.49\n",
            "日期 1140912 指數 臺灣優選AI 50報酬指數 收盤 5746 漲跌 34.92\n",
            "日期 1140912 指數 臺灣AI供應鏈聯盟報酬指數 收盤 7525 漲跌 38.03\n",
            "日期 1140912 指數 台灣旗艦動能50報酬指數 收盤 5849 漲跌 57.61\n",
            "日期 1140912 指數 特選臺灣動能趨勢報酬指數 收盤 8677 漲跌 70.80\n",
            "日期 1140912 指數 漲升股利150報酬指數 收盤 16541 漲跌 155.86\n",
            "日期 1140912 指數 藍籌30報酬指數 收盤 18421 漲跌 145.22\n",
            "日期 1140912 指數 工業菁英30報酬指數 收盤 17282 漲跌 42.17\n",
            "日期 1140912 指數 低波動股利精選30報酬指數 收盤 12807 漲跌 87.33\n",
            "日期 1140912 指數 中小型A級動能50報酬指數 收盤 27144 漲跌 27.65\n",
            "日期 1140912 指數 特選高息低波報酬指數 收盤 15873 漲跌 138.32\n",
            "日期 1140912 指數 臺灣永續報酬指數 收盤 19018 漲跌 198.55\n",
            "日期 1140912 指數 存股雙十等權重報酬指數 收盤 16500 漲跌 168.09\n",
            "日期 1140912 指數 特選大蘋果報酬指數 收盤 18059 漲跌 234.41\n",
            "日期 1140912 指數 中小型300報酬指數 收盤 15432 漲跌 53.75\n",
            "日期 1140912 指數 微波高息精選20報酬指數 收盤 11682 漲跌 40.00\n",
            "日期 1140912 指數 特選世代行動通訊報酬指數 收盤 13987 漲跌 9.05\n",
            "日期 1140912 指數 智慧投資多因子30報酬指數 收盤 10229 漲跌 83.14\n",
            "日期 1140912 指數 特選大蘋果報酬正向兩倍指數 收盤 55211 漲跌 1,414.98\n",
            "日期 1140912 指數 特選大蘋果報酬反向一倍指數 收盤 2609 漲跌 34.77\n",
            "日期 1140912 指數 特選價值成長報酬指數 收盤 13705 漲跌 157.92\n",
            "日期 1140912 指數 臺灣上櫃永續報酬指數 收盤 9451 漲跌 66.63\n",
            "日期 1140912 指數 特選台股領航報酬指數 收盤 16980 漲跌 220.67\n",
            "日期 1140912 指數 特選Smart多因子報酬指數 收盤 12960 漲跌 112.56\n",
            "日期 1140912 指數 特選ESG高股息報酬指數 收盤 9555 漲跌 112.94\n",
            "日期 1140912 指數 特選上櫃ESG成長報酬指數 收盤 6020 漲跌 72.28\n",
            "日期 1140912 指數 臺灣優息存股報酬指數 收盤 6405 漲跌 50.16\n",
            "日期 1140912 指數 特選上櫃ESG永續高股息報酬指數 收盤 9934 漲跌 187.50\n",
            "日期 1140912 指數 特選臺灣金融高股息存股報酬指數 收盤 8225 漲跌 67.24\n",
            "日期 1140912 指數 特選臺灣產業龍頭存股等權重報酬指數 收盤 7669 漲跌 33.91\n",
            "日期 1140912 指數 上櫃ESG 30報酬指數 收盤 8101 漲跌 9.05\n",
            "日期 1140912 指數 臺灣ESG低碳50報酬指數 收盤 9727 漲跌 94.82\n",
            "日期 1140912 指數 臺灣創新板報酬指數 收盤 10616 漲跌 61.97\n",
            "日期 1140912 指數 特選上櫃ESG龍頭報酬指數 收盤 7072 漲跌 67.20\n",
            "日期 1140912 指數 臺灣市值動能50報酬指數 收盤 5831 漲跌 72.16\n",
            "日期 1140912 指數 臺灣護城河概念優選50報酬指數 收盤 5877 漲跌 62.38\n",
            "日期 1140912 指數 特選臺灣中小型精選動能100報酬指數 收盤 4907 漲跌 17.01\n",
            "日期 1140912 指數 特選臺灣大型股25報酬指數 收盤 6263 漲跌 87.41\n"
          ]
        }
      ],
      "source": [
        "!pip install requests\n",
        "\n",
        "#取得API資料\n",
        "import requests\n",
        "url = \"https://openapi.twse.com.tw/v1/exchangeReport/MI_INDEX\"\n",
        "response = requests.get(url).json();\n",
        "\n",
        "#繪畫表格\n",
        "import pandas as pd\n",
        "formateData = pd.DataFrame(response)\n",
        "formateDataF50 = formateData.tail(50)\n",
        "for row in formateDataF50.itertuples():\n",
        "    print(f\"日期 {row.日期} 指數 {row.指數} 收盤 {row.收盤指數} 漲跌 {row.漲跌點數}\")\n"
      ]
    }
  ]
}